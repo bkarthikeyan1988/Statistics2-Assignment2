{
 "cells": [
  {
   "cell_type": "markdown",
   "metadata": {},
   "source": [
    "### Problem Statement 1\n",
    "A die marked A to E is rolled 50 times. Find the probability of getting a “D” exactly 5\n",
    "times.\n",
    "\n",
    "##### Solution:\n",
    "\n",
    "Die Market A to E is rolled => n = 50, \n",
    "\n",
    "Probability to get the D exactly => k = 5, \n",
    "\n",
    "Remaining Die count => n - k = 50 -5 = 45.\n",
    "\n",
    "The probability of success = probability of getting a “D”= s = 1/5 [A to E is 5 and D is 1 so 1/5]\n",
    "\n",
    "Hence, the probability of failure = probability of not getting a “D” = 1 - s = 4/5 = 0.8."
   ]
  },
  {
   "cell_type": "code",
   "execution_count": 5,
   "metadata": {},
   "outputs": [
    {
     "data": {
      "text/plain": [
       "0.2"
      ]
     },
     "metadata": {},
     "output_type": "display_data"
    }
   ],
   "source": [
    "# Die Market A to E is rolled\n",
    "n = 50, \n",
    "\n",
    "# Probability to get the D exactly\n",
    "\n",
    "k = 5, \n",
    "\n",
    "# Remaining Die count n - k x = 50 -5 = 45.\n",
    "x = 45.\n",
    "\n",
    "#The probability of success = probability of getting a “D”  [A to E is 5 and D is 1 so 1/5]\n",
    "s = 1/5\n",
    "display(s)"
   ]
  },
  {
   "cell_type": "markdown",
   "metadata": {},
   "source": [
    "### Getting D 1/5 = 0.2, Not Getting D 1 - 1/5 = 4/5 = 0.8"
   ]
  },
  {
   "cell_type": "code",
   "execution_count": null,
   "metadata": {},
   "outputs": [],
   "source": []
  }
 ],
 "metadata": {
  "kernelspec": {
   "display_name": "Python 3",
   "language": "python",
   "name": "python3"
  },
  "language_info": {
   "codemirror_mode": {
    "name": "ipython",
    "version": 3
   },
   "file_extension": ".py",
   "mimetype": "text/x-python",
   "name": "python",
   "nbconvert_exporter": "python",
   "pygments_lexer": "ipython3",
   "version": "3.6.4"
  }
 },
 "nbformat": 4,
 "nbformat_minor": 2
}
